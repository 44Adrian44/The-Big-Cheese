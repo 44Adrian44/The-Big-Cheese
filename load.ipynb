{
 "cells": [
  {
   "cell_type": "code",
   "execution_count": 3,
   "metadata": {},
   "outputs": [
    {
     "name": "stderr",
     "output_type": "stream",
     "text": [
      "/Users/abbottubeine/miniconda3/envs/rag/lib/python3.10/site-packages/pinecone/data/index.py:1: TqdmWarning: IProgress not found. Please update jupyter and ipywidgets. See https://ipywidgets.readthedocs.io/en/stable/user_install.html\n",
      "  from tqdm.autonotebook import tqdm\n"
     ]
    }
   ],
   "source": [
    "from dotenv import load_dotenv\n",
    "import os\n",
    "from openai import OpenAI\n",
    "from pinecone import Pinecone, ServerlessSpec\n"
   ]
  },
  {
   "cell_type": "code",
   "execution_count": 4,
   "metadata": {},
   "outputs": [],
   "source": [
    "# Load environment variables\n",
    "load_dotenv()\n",
    "\n",
    "# Create an instance of the Pinecone client\n",
    "pc = Pinecone(api_key=os.getenv('PINECONE_API_KEY'))\n",
    "\n",
    "# Create the index using the new structure\n",
    "pc.create_index(\n",
    "    name=\"rag\",\n",
    "    dimension=1536,\n",
    "    metric=\"cosine\",\n",
    "    spec=ServerlessSpec(cloud=\"aws\", region=\"us-east-1\")\n",
    ")\n"
   ]
  },
  {
   "cell_type": "code",
   "execution_count": 5,
   "metadata": {},
   "outputs": [
    {
     "data": {
      "text/plain": [
       "[{'professor': 'Dr. James Smith',\n",
       "  'subject': 'Computer Science',\n",
       "  'stars': 5,\n",
       "  'review': 'Amazing professor! Clear lectures and always willing to help.'},\n",
       " {'professor': 'Prof. Emily Johnson',\n",
       "  'subject': 'Mathematics',\n",
       "  'stars': 3,\n",
       "  'review': 'Good teacher but the exams are difficult.'},\n",
       " {'professor': 'Dr. Michael Lee',\n",
       "  'subject': 'Physics',\n",
       "  'stars': 4,\n",
       "  'review': 'Engaging lectures and practical examples.'},\n",
       " {'professor': 'Prof. Sarah Williams',\n",
       "  'subject': 'Chemistry',\n",
       "  'stars': 2,\n",
       "  'review': 'Hard to follow during lectures, but she offers a lot of resources.'},\n",
       " {'professor': 'Dr. David Brown',\n",
       "  'subject': 'History',\n",
       "  'stars': 5,\n",
       "  'review': 'Makes history come alive! Highly recommended.'},\n",
       " {'professor': 'Prof. Jessica Martinez',\n",
       "  'subject': 'Literature',\n",
       "  'stars': 3,\n",
       "  'review': 'Interesting readings but unclear grading criteria.'},\n",
       " {'professor': 'Dr. Richard Davis',\n",
       "  'subject': 'Biology',\n",
       "  'stars': 4,\n",
       "  'review': 'Challenging course but he’s very supportive.'},\n",
       " {'professor': 'Prof. Anna Garcia',\n",
       "  'subject': 'Economics',\n",
       "  'stars': 2,\n",
       "  'review': 'Tough grader and fast-paced.'},\n",
       " {'professor': 'Dr. William Anderson',\n",
       "  'subject': 'Philosophy',\n",
       "  'stars': 5,\n",
       "  'review': 'Thought-provoking lectures with plenty of discussion.'},\n",
       " {'professor': 'Prof. Sophia Robinson',\n",
       "  'subject': 'Sociology',\n",
       "  'stars': 4,\n",
       "  'review': 'Very knowledgeable but sometimes hard to approach.'},\n",
       " {'professor': 'Dr. Andrew Wilson',\n",
       "  'subject': 'Political Science',\n",
       "  'stars': 3,\n",
       "  'review': 'Lectures can be dry but his office hours are great.'},\n",
       " {'professor': 'Prof. Jennifer Lewis',\n",
       "  'subject': 'Psychology',\n",
       "  'stars': 5,\n",
       "  'review': 'Very empathetic and creates a great learning environment.'},\n",
       " {'professor': 'Dr. Charles Walker',\n",
       "  'subject': 'Statistics',\n",
       "  'stars': 4,\n",
       "  'review': 'Clear explanations, but the problem sets are tough.'},\n",
       " {'professor': 'Prof. Lisa Hall',\n",
       "  'subject': 'Art History',\n",
       "  'stars': 2,\n",
       "  'review': 'Content is interesting, but she is very strict about attendance.'},\n",
       " {'professor': 'Dr. Steven Young',\n",
       "  'subject': 'Engineering',\n",
       "  'stars': 5,\n",
       "  'review': 'Top-notch! Industry insights and practical skills.'},\n",
       " {'professor': 'Prof. Laura Allen',\n",
       "  'subject': 'Anthropology',\n",
       "  'stars': 3,\n",
       "  'review': 'Interesting material but lectures are sometimes hard to follow.'},\n",
       " {'professor': 'Dr. Robert King',\n",
       "  'subject': 'Environmental Science',\n",
       "  'stars': 4,\n",
       "  'review': 'Engaging and very knowledgeable about current issues.'},\n",
       " {'professor': 'Prof. Olivia Scott',\n",
       "  'subject': 'Music Theory',\n",
       "  'stars': 5,\n",
       "  'review': 'Passionate about music and always encourages creativity.'},\n",
       " {'professor': 'Dr. Patricia Green',\n",
       "  'subject': 'Linguistics',\n",
       "  'stars': 3,\n",
       "  'review': 'Content is heavy but she provides plenty of study materials.'},\n",
       " {'professor': 'Prof. Joseph Hill',\n",
       "  'subject': 'Theater Arts',\n",
       "  'stars': 4,\n",
       "  'review': 'Fun classes with lots of group activities.'}]"
      ]
     },
     "execution_count": 5,
     "metadata": {},
     "output_type": "execute_result"
    }
   ],
   "source": [
    "import json\n",
    "data = json.load(open(\"reviews.json\"))\n",
    "data['reviews']"
   ]
  },
  {
   "cell_type": "code",
   "execution_count": 16,
   "metadata": {},
   "outputs": [],
   "source": [
    "# Following the video min 18:58 but here I am getting an error:\n",
    "# NameError: name 'OpenAI' is not defined\n",
    "# Processed data storage\n",
    "processed_data = []\n",
    "\n",
    "client = OpenAI()\n",
    "\n",
    "for review in data['reviews']:\n",
    "    response = client.embeddings.create(\n",
    "        input=review['review'],\n",
    "        model=\"text-embedding-3-small\"  # Correct model name for embedding generation\n",
    "    )\n",
    "    embedding = response.data[0].embedding\n",
    "    processed_data.append({\n",
    "        \"values\": embedding,\n",
    "        \"id\": review[\"professor\"],\n",
    "        \"metadata\": {\n",
    "            \"review\": review[\"review\"],\n",
    "            \"subject\": review[\"subject\"],\n",
    "            \"stars\": review[\"stars\"]\n",
    "        }\n",
    "    })\n"
   ]
  },
  {
   "cell_type": "code",
   "execution_count": 17,
   "metadata": {},
   "outputs": [
    {
     "name": "stdout",
     "output_type": "stream",
     "text": [
      "Upserted count: 20\n",
      "{'dimension': 1536,\n",
      " 'index_fullness': 0.0,\n",
      " 'namespaces': {},\n",
      " 'total_vector_count': 0}\n"
     ]
    }
   ],
   "source": [
    "# Insert the embeddings into the Pinecone index\n",
    "index = pc.Index(\"rag\")\n",
    "upsert_response = index.upsert(\n",
    "    vectors=processed_data,\n",
    "    namespace=\"ns1\",\n",
    ")\n",
    "print(f\"Upserted count: {upsert_response['upserted_count']}\")\n",
    "\n",
    "# Print index statistics\n",
    "print(index.describe_index_stats())"
   ]
  }
 ],
 "metadata": {
  "kernelspec": {
   "display_name": "env",
   "language": "python",
   "name": "python3"
  },
  "language_info": {
   "codemirror_mode": {
    "name": "ipython",
    "version": 3
   },
   "file_extension": ".py",
   "mimetype": "text/x-python",
   "name": "python",
   "nbconvert_exporter": "python",
   "pygments_lexer": "ipython3",
   "version": "3.10.14"
  }
 },
 "nbformat": 4,
 "nbformat_minor": 2
}
