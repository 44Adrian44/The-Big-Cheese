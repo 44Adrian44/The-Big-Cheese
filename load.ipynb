{
 "cells": [
  {
   "cell_type": "code",
   "execution_count": 27,
   "metadata": {},
   "outputs": [],
   "source": [
    "from dotenv import load_dotenv\n",
    "import os\n",
    "from openai import OpenAI\n",
    "from pinecone import Pinecone, ServerlessSpec\n"
   ]
  },
  {
   "cell_type": "code",
   "execution_count": 28,
   "metadata": {},
   "outputs": [],
   "source": [
    "# Load environment variables\n",
    "load_dotenv()\n",
    "\n",
    "# Create an instance of the Pinecone client\n",
    "pc = Pinecone(api_key=os.getenv('PINECONE_API_KEY'))\n",
    "\n",
    "# Create the index using the new structure\n",
    "pc.create_index(\n",
    "    name=\"rag\",\n",
    "    dimension=1536,\n",
    "    metric=\"cosine\",\n",
    "    spec=ServerlessSpec(cloud=\"aws\", region=\"us-east-1\")\n",
    ")\n"
   ]
  },
  {
   "cell_type": "code",
   "execution_count": 29,
   "metadata": {},
   "outputs": [
    {
     "data": {
      "text/plain": [
       "[{'professor': 'Dr. James Smith',\n",
       "  'subject': 'Computer Science',\n",
       "  'stars': 5,\n",
       "  'review': 'Amazing professor! Clear lectures and always willing to help.'},\n",
       " {'professor': 'Prof. Emily Johnson',\n",
       "  'subject': 'Mathematics',\n",
       "  'stars': 3,\n",
       "  'review': 'Good teacher but the exams are difficult.'},\n",
       " {'professor': 'Dr. Michael Lee',\n",
       "  'subject': 'Physics',\n",
       "  'stars': 4,\n",
       "  'review': 'Engaging lectures and practical examples.'},\n",
       " {'professor': 'Prof. Sarah Williams',\n",
       "  'subject': 'Chemistry',\n",
       "  'stars': 2,\n",
       "  'review': 'Hard to follow during lectures, but she offers a lot of resources.'},\n",
       " {'professor': 'Dr. David Brown',\n",
       "  'subject': 'History',\n",
       "  'stars': 5,\n",
       "  'review': 'Makes history come alive! Highly recommended.'},\n",
       " {'professor': 'Prof. Jessica Martinez',\n",
       "  'subject': 'Literature',\n",
       "  'stars': 3,\n",
       "  'review': 'Interesting readings but unclear grading criteria.'},\n",
       " {'professor': 'Dr. Richard Davis',\n",
       "  'subject': 'Biology',\n",
       "  'stars': 4,\n",
       "  'review': 'Challenging course but he’s very supportive.'},\n",
       " {'professor': 'Prof. Anna Garcia',\n",
       "  'subject': 'Economics',\n",
       "  'stars': 2,\n",
       "  'review': 'Tough grader and fast-paced.'},\n",
       " {'professor': 'Dr. William Anderson',\n",
       "  'subject': 'Philosophy',\n",
       "  'stars': 5,\n",
       "  'review': 'Thought-provoking lectures with plenty of discussion.'},\n",
       " {'professor': 'Prof. Sophia Robinson',\n",
       "  'subject': 'Sociology',\n",
       "  'stars': 4,\n",
       "  'review': 'Very knowledgeable but sometimes hard to approach.'},\n",
       " {'professor': 'Dr. Andrew Wilson',\n",
       "  'subject': 'Political Science',\n",
       "  'stars': 3,\n",
       "  'review': 'Lectures can be dry but his office hours are great.'},\n",
       " {'professor': 'Prof. Jennifer Lewis',\n",
       "  'subject': 'Psychology',\n",
       "  'stars': 5,\n",
       "  'review': 'Very empathetic and creates a great learning environment.'},\n",
       " {'professor': 'Dr. Charles Walker',\n",
       "  'subject': 'Statistics',\n",
       "  'stars': 4,\n",
       "  'review': 'Clear explanations, but the problem sets are tough.'},\n",
       " {'professor': 'Prof. Lisa Hall',\n",
       "  'subject': 'Art History',\n",
       "  'stars': 2,\n",
       "  'review': 'Content is interesting, but she is very strict about attendance.'},\n",
       " {'professor': 'Dr. Steven Young',\n",
       "  'subject': 'Engineering',\n",
       "  'stars': 5,\n",
       "  'review': 'Top-notch! Industry insights and practical skills.'},\n",
       " {'professor': 'Prof. Laura Allen',\n",
       "  'subject': 'Anthropology',\n",
       "  'stars': 3,\n",
       "  'review': 'Interesting material but lectures are sometimes hard to follow.'},\n",
       " {'professor': 'Dr. Robert King',\n",
       "  'subject': 'Environmental Science',\n",
       "  'stars': 4,\n",
       "  'review': 'Engaging and very knowledgeable about current issues.'},\n",
       " {'professor': 'Prof. Olivia Scott',\n",
       "  'subject': 'Music Theory',\n",
       "  'stars': 5,\n",
       "  'review': 'Passionate about music and always encourages creativity.'},\n",
       " {'professor': 'Dr. Patricia Green',\n",
       "  'subject': 'Linguistics',\n",
       "  'stars': 3,\n",
       "  'review': 'Content is heavy but she provides plenty of study materials.'},\n",
       " {'professor': 'Prof. Joseph Hill',\n",
       "  'subject': 'Theater Arts',\n",
       "  'stars': 4,\n",
       "  'review': 'Fun classes with lots of group activities.'}]"
      ]
     },
     "execution_count": 29,
     "metadata": {},
     "output_type": "execute_result"
    }
   ],
   "source": [
    "import json\n",
    "data = json.load(open(\"reviews.json\"))\n",
    "data['reviews']"
   ]
  },
  {
   "cell_type": "code",
   "execution_count": 1,
   "metadata": {},
   "outputs": [
    {
     "ename": "NameError",
     "evalue": "name 'OpenAI' is not defined",
     "output_type": "error",
     "traceback": [
      "\u001b[0;31m---------------------------------------------------------------------------\u001b[0m",
      "\u001b[0;31mNameError\u001b[0m                                 Traceback (most recent call last)",
      "Cell \u001b[0;32mIn[1], line 4\u001b[0m\n\u001b[1;32m      1\u001b[0m \u001b[38;5;66;03m# Processed data storage\u001b[39;00m\n\u001b[1;32m      2\u001b[0m processed_data \u001b[38;5;241m=\u001b[39m []\n\u001b[0;32m----> 4\u001b[0m client \u001b[38;5;241m=\u001b[39m \u001b[43mOpenAI\u001b[49m()\n\u001b[1;32m      6\u001b[0m \u001b[38;5;28;01mfor\u001b[39;00m review \u001b[38;5;129;01min\u001b[39;00m data[\u001b[38;5;124m'\u001b[39m\u001b[38;5;124mreviews\u001b[39m\u001b[38;5;124m'\u001b[39m]:\n\u001b[1;32m      7\u001b[0m     response \u001b[38;5;241m=\u001b[39m client\u001b[38;5;241m.\u001b[39membedding\u001b[38;5;241m.\u001b[39mcreate(\n\u001b[1;32m      8\u001b[0m         \u001b[38;5;28minput\u001b[39m\u001b[38;5;241m=\u001b[39mreview[\u001b[38;5;124m'\u001b[39m\u001b[38;5;124mreview\u001b[39m\u001b[38;5;124m'\u001b[39m],\n\u001b[1;32m      9\u001b[0m         model\u001b[38;5;241m=\u001b[39m\u001b[38;5;124m\"\u001b[39m\u001b[38;5;124mtext-embedding-3-small\u001b[39m\u001b[38;5;124m\"\u001b[39m  \u001b[38;5;66;03m# Correct model name for embedding generation\u001b[39;00m\n\u001b[1;32m     10\u001b[0m     )\n",
      "\u001b[0;31mNameError\u001b[0m: name 'OpenAI' is not defined"
     ]
    }
   ],
   "source": [
    "# Following the video min 18:58 but here I am getting an error: \n",
    "# NameError: name 'OpenAI' is not defined\n",
    "# Processed data storage\n",
    "processed_data = []\n",
    "\n",
    "client = OpenAI()\n",
    "\n",
    "for review in data['reviews']:\n",
    "    response = client.embedding.create(\n",
    "        input=review['review'],\n",
    "        model=\"text-embedding-3-small\"  # Correct model name for embedding generation\n",
    "    )\n",
    "    embedding = response.data[0].embedding\n",
    "    processed_data.append({\n",
    "        \"values\": embedding,\n",
    "        \"id\": review[\"professor\"],\n",
    "        \"metadata\": {\n",
    "            \"review\": review[\"review\"],\n",
    "            \"subject\": review[\"subject\"],\n",
    "            \"stars\": review[\"stars\"]\n",
    "        }\n",
    "    })\n"
   ]
  }
 ],
 "metadata": {
  "kernelspec": {
   "display_name": "env",
   "language": "python",
   "name": "python3"
  },
  "language_info": {
   "codemirror_mode": {
    "name": "ipython",
    "version": 3
   },
   "file_extension": ".py",
   "mimetype": "text/x-python",
   "name": "python",
   "nbconvert_exporter": "python",
   "pygments_lexer": "ipython3",
   "version": "3.9.6"
  }
 },
 "nbformat": 4,
 "nbformat_minor": 2
}
